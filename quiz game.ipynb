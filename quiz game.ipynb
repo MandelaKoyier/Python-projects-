{
 "cells": [
  {
   "cell_type": "code",
   "execution_count": 9,
   "id": "e74acee4-3540-432b-bdd5-0adec7860259",
   "metadata": {},
   "outputs": [
    {
     "name": "stdout",
     "output_type": "stream",
     "text": [
      "________________\n",
      "whats is one plus 2?: \n",
      "A.3\n",
      "B.5\n",
      "C.9\n",
      "D.4\n"
     ]
    },
    {
     "name": "stdin",
     "output_type": "stream",
     "text": [
      "enter (A,B,C,D):  A\n"
     ]
    },
    {
     "name": "stdout",
     "output_type": "stream",
     "text": [
      "YOUR RIGHT!\n",
      "________________\n",
      "how many corners make a pentagon?: \n",
      "A.8\n",
      "B.5\n",
      "C.7\n",
      "D.9\n"
     ]
    },
    {
     "name": "stdin",
     "output_type": "stream",
     "text": [
      "enter (A,B,C,D):  C\n"
     ]
    },
    {
     "name": "stdout",
     "output_type": "stream",
     "text": [
      "YOUR WRONG\n",
      "B is the correct answer!\n",
      "________________\n",
      "what is the capital city of kenya?: \n",
      "A.Adiss ababa\n",
      "B.cape town\n",
      "C.Nairobi\n",
      "D.daresalam\n"
     ]
    },
    {
     "name": "stdin",
     "output_type": "stream",
     "text": [
      "enter (A,B,C,D):  C\n"
     ]
    },
    {
     "name": "stdout",
     "output_type": "stream",
     "text": [
      "YOUR RIGHT!\n",
      "________________\n",
      "what is the capital city of ethiopia?: \n",
      "A.Tigres\n",
      "B.Adiss ababa\n",
      "C.London\n",
      "D.Kampala\n"
     ]
    },
    {
     "name": "stdin",
     "output_type": "stream",
     "text": [
      "enter (A,B,C,D):  B\n"
     ]
    },
    {
     "name": "stdout",
     "output_type": "stream",
     "text": [
      "YOUR RIGHT!\n",
      "________________\n",
      "who is the president of kenya?: \n",
      "A.Kikwete\n",
      "B.Ramaphosa\n",
      "C.Ruto\n",
      "D.Suluhu\n"
     ]
    },
    {
     "name": "stdin",
     "output_type": "stream",
     "text": [
      "enter (A,B,C,D):  D\n"
     ]
    },
    {
     "name": "stdout",
     "output_type": "stream",
     "text": [
      "YOUR WRONG\n",
      "C is the correct answer!\n",
      "________________\n",
      "    RESULTS    \n",
      "________________\n",
      "answers: ABCBC\n",
      "guesses: ACCBD\n",
      "your score is: 9 %\n"
     ]
    }
   ],
   "source": [
    "questions = (\"whats is one plus 2?: \",\n",
    "            \"how many corners make a pentagon?: \",\n",
    "            \"what is the capital city of kenya?: \",\n",
    "            \"what is the capital city of ethiopia?: \",\n",
    "            \"who is the president of kenya?: \")\n",
    "options = ((\"A.3\",\"B.5\",\"C.9\",\"D.4\"),\n",
    "           (\"A.8\",\"B.5\",\"C.7\",\"D.9\"),\n",
    "           (\"A.Adiss ababa\",\"B.cape town\",\"C.Nairobi\",\"D.daresalam\"),\n",
    "           (\"A.Tigres\",\"B.Adiss ababa\",\"C.London\",\"D.Kampala\"),\n",
    "           (\"A.Kikwete\",\"B.Ramaphosa\",\"C.Ruto\",\"D.Suluhu\"))\n",
    "answers = (\"A\",\"B\",\"C\",\"B\",\"C\")\n",
    "guesses = []\n",
    "score = 0\n",
    "question_num = 0\n",
    "\n",
    "for question in questions:\n",
    "    print(\"________________\")\n",
    "    print(question)\n",
    "    for option in options[question_num]:\n",
    "        print(option)\n",
    "\n",
    "    guess = input(\"enter (A,B,C,D): \").upper()\n",
    "    guesses.append(guess)\n",
    "    if guess == answers[question_num]:\n",
    "        score += 1\n",
    "        print(\"YOUR RIGHT!\")\n",
    "\n",
    "    else:\n",
    "        print(\"YOUR WRONG\")\n",
    "        print(f\"{answers[question_num]} is the correct answer!\")\n",
    "\n",
    "    question_num += 1 \n",
    "\n",
    "print(\"________________\")\n",
    "print(\"    RESULTS    \")\n",
    "print(\"________________\")\n",
    "\n",
    "print(\"answers: \", end=\"\")\n",
    "for answer in answers:\n",
    "    print(answer, end=\"\")\n",
    "print()\n",
    "print(\"guesses: \", end=\"\")\n",
    "for guess in guesses:\n",
    "    print(guess, end=\"\")\n",
    "print()    \n",
    "\n",
    "score = int(score / len(question) *100)\n",
    "print (f\"your score is: {score} %\")\n"
   ]
  },
  {
   "cell_type": "code",
   "execution_count": null,
   "id": "93300867-4dff-42ed-ac51-b6a8806bed4c",
   "metadata": {},
   "outputs": [],
   "source": []
  }
 ],
 "metadata": {
  "kernelspec": {
   "display_name": "Python 3 (ipykernel)",
   "language": "python",
   "name": "python3"
  },
  "language_info": {
   "codemirror_mode": {
    "name": "ipython",
    "version": 3
   },
   "file_extension": ".py",
   "mimetype": "text/x-python",
   "name": "python",
   "nbconvert_exporter": "python",
   "pygments_lexer": "ipython3",
   "version": "3.13.2"
  }
 },
 "nbformat": 4,
 "nbformat_minor": 5
}
