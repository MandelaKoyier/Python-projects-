{
 "cells": [
  {
   "cell_type": "code",
   "execution_count": 2,
   "id": "f993f64c-f46a-463d-80d6-f6d062cb2963",
   "metadata": {},
   "outputs": [
    {
     "name": "stdin",
     "output_type": "stream",
     "text": [
      "enter your email:  mandech@gmail.com\n"
     ]
    },
    {
     "name": "stdout",
     "output_type": "stream",
     "text": [
      "your user name is mandech and domain is @gmail.com\n"
     ]
    }
   ],
   "source": [
    "email = input(\"enter your email: \")\n",
    "index = email.index(\"@\")\n",
    "\n",
    "username = email[:index]\n",
    "domain =email[index:]\n",
    "\n",
    "print(f\"your user name is {username} and domain is {domain}\")\n",
    "\n"
   ]
  },
  {
   "cell_type": "code",
   "execution_count": null,
   "id": "99b97d76-cf64-49f5-8390-06b39e7bdbe6",
   "metadata": {},
   "outputs": [],
   "source": []
  }
 ],
 "metadata": {
  "kernelspec": {
   "display_name": "Python 3 (ipykernel)",
   "language": "python",
   "name": "python3"
  },
  "language_info": {
   "codemirror_mode": {
    "name": "ipython",
    "version": 3
   },
   "file_extension": ".py",
   "mimetype": "text/x-python",
   "name": "python",
   "nbconvert_exporter": "python",
   "pygments_lexer": "ipython3",
   "version": "3.13.2"
  }
 },
 "nbformat": 4,
 "nbformat_minor": 5
}
