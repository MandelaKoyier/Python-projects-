{
 "cells": [
  {
   "cell_type": "code",
   "execution_count": 31,
   "id": "75115225-0be9-4d0c-a7fb-f0afa3a03ce2",
   "metadata": {},
   "outputs": [
    {
     "name": "stdout",
     "output_type": "stream",
     "text": [
      "python number guessing game\n",
      "select a number between 1 and 100: \n"
     ]
    },
    {
     "name": "stdin",
     "output_type": "stream",
     "text": [
      "enter your guess:  50\n"
     ]
    },
    {
     "name": "stdout",
     "output_type": "stream",
     "text": [
      "too High! try again!\n"
     ]
    },
    {
     "name": "stdin",
     "output_type": "stream",
     "text": [
      "enter your guess:  78\n"
     ]
    },
    {
     "name": "stdout",
     "output_type": "stream",
     "text": [
      "too High! try again!\n"
     ]
    },
    {
     "name": "stdin",
     "output_type": "stream",
     "text": [
      "enter your guess:  5\n"
     ]
    },
    {
     "name": "stdout",
     "output_type": "stream",
     "text": [
      "correct! the answer is 6\n",
      "number of guesses:6\n"
     ]
    }
   ],
   "source": [
    "import random \n",
    "lowest_num = 1 \n",
    "highest_num = 100\n",
    "answer = random.randint(lowest_num, highest_num)\n",
    "guess = 0\n",
    "is_running = True\n",
    "\n",
    "print(\"python number guessing game\")\n",
    "print(f\"select a number between {lowest_num} and {highest_num}: \")\n",
    "\n",
    "while is_running:\n",
    "    guess = input(\"enter your guess: \")\n",
    "    if guess.isdigit():\n",
    "        guess = int(guess)\n",
    "        guess += 1 \n",
    "\n",
    "        if guess < lowest_num or guess > highest_num:\n",
    "            print(\"that number is out of range\")\n",
    "            print(f\"please select a number between {lowest_num} and {highest_num}: \")\n",
    "\n",
    "        elif guess < answer:\n",
    "            print(\"too low! try again!\")\n",
    "        elif guess > answer:\n",
    "            print(\"too High! try again!\")\n",
    "        else:\n",
    "            print(f\"correct! the answer is {answer}\")\n",
    "            print(f\"number of guesses:{guess}\")\n",
    "            is_running = False\n",
    "            \n",
    "        \n",
    "        \n",
    "    else:\n",
    "        print(\"invalid guess!\")\n",
    "        print(f\"please select a number between {lowest_num} and {highest_num}: \")"
   ]
  },
  {
   "cell_type": "code",
   "execution_count": null,
   "id": "4fb69a42-61df-40ca-b4bf-9da665acb968",
   "metadata": {},
   "outputs": [],
   "source": []
  },
  {
   "cell_type": "code",
   "execution_count": null,
   "id": "2111828e-72a4-4ad6-9d1e-4a53f63070da",
   "metadata": {},
   "outputs": [],
   "source": []
  },
  {
   "cell_type": "code",
   "execution_count": null,
   "id": "2b6d769f-d1fb-41a1-9e35-d4a3ef9512dd",
   "metadata": {},
   "outputs": [],
   "source": []
  }
 ],
 "metadata": {
  "kernelspec": {
   "display_name": "Python 3 (ipykernel)",
   "language": "python",
   "name": "python3"
  },
  "language_info": {
   "codemirror_mode": {
    "name": "ipython",
    "version": 3
   },
   "file_extension": ".py",
   "mimetype": "text/x-python",
   "name": "python",
   "nbconvert_exporter": "python",
   "pygments_lexer": "ipython3",
   "version": "3.13.2"
  }
 },
 "nbformat": 4,
 "nbformat_minor": 5
}
