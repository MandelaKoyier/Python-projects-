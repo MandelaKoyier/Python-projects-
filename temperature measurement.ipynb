{
 "cells": [
  {
   "cell_type": "code",
   "execution_count": 7,
   "id": "96672a98-2725-4de8-a36c-07a75a339faa",
   "metadata": {},
   "outputs": [
    {
     "name": "stdin",
     "output_type": "stream",
     "text": [
      "is the temperature in celsius or farenheit (C/F):  F\n",
      "enter the temperature:  91.4\n"
     ]
    },
    {
     "name": "stdout",
     "output_type": "stream",
     "text": [
      "temperature in fcelsius is: 33 C\n"
     ]
    }
   ],
   "source": [
    "unit = input (\"is the temperature in celsius or farenheit (C/F): \")\n",
    "temp = float(input (\"enter the temperature: \"))\n",
    "\n",
    "\n",
    "if unit == \"C\":\n",
    "    temp = round((9* temp)/ 5+32)\n",
    "    print(f\"temperature in farenheight is: {temp} F\")\n",
    "elif unit == \"F\":\n",
    "    temp = round((temp - 32) * 5/9)\n",
    "    print(f\"temperature in fcelsius is: {temp} C\")\n",
    "else:\n",
    "    print(f\"{unit} is an invalid unit of measurement\")\n",
    "    "
   ]
  },
  {
   "cell_type": "code",
   "execution_count": null,
   "id": "feb48142-623e-4ae9-a153-fcd80280f776",
   "metadata": {},
   "outputs": [],
   "source": []
  }
 ],
 "metadata": {
  "kernelspec": {
   "display_name": "Python 3 (ipykernel)",
   "language": "python",
   "name": "python3"
  },
  "language_info": {
   "codemirror_mode": {
    "name": "ipython",
    "version": 3
   },
   "file_extension": ".py",
   "mimetype": "text/x-python",
   "name": "python",
   "nbconvert_exporter": "python",
   "pygments_lexer": "ipython3",
   "version": "3.13.2"
  }
 },
 "nbformat": 4,
 "nbformat_minor": 5
}
