{
 "cells": [
  {
   "cell_type": "code",
   "execution_count": 13,
   "id": "63d7e294-7b72-4694-8c83-13e0cd8bc721",
   "metadata": {},
   "outputs": [
    {
     "name": "stdin",
     "output_type": "stream",
     "text": [
      "enter a food to buy (q to quit):  eggs\n",
      "enter the price of eggs: $ 7\n",
      "enter a food to buy (q to quit):  soda\n",
      "enter the price of soda: $ 9\n",
      "enter a food to buy (q to quit):  saece\n",
      "enter the price of saece: $ 3\n",
      "enter a food to buy (q to quit):  q\n"
     ]
    },
    {
     "name": "stdout",
     "output_type": "stream",
     "text": [
      "----your cart-----\n",
      "eggs 3.0 soda 3.0 saece 3.0 your total is : $19.0\n"
     ]
    }
   ],
   "source": [
    "foods = []\n",
    "prices = []\n",
    "total = 0 \n",
    "\n",
    "while True:\n",
    "    food = input(\"enter a food to buy (q to quit): \")\n",
    "    if food.lower() == \"q\":\n",
    "        break\n",
    "    else:\n",
    "        price = float(input(f\"enter the price of {food}: $\"))\n",
    "        foods.append(food)\n",
    "        prices.append(price)\n",
    "\n",
    "print(\"----your cart-----\")\n",
    "\n",
    "for food in foods:\n",
    "    print(food, end=\" \")\n",
    "\n",
    "for price in prices:\n",
    "    total += price \n",
    "print()\n",
    "print (f\"your total is : ${total}\")\n",
    "\n",
    "\n",
    "    "
   ]
  },
  {
   "cell_type": "code",
   "execution_count": null,
   "id": "f3c2e2ba-f56f-4d65-bb99-b6f2989e14b7",
   "metadata": {},
   "outputs": [],
   "source": []
  }
 ],
 "metadata": {
  "kernelspec": {
   "display_name": "Python 3 (ipykernel)",
   "language": "python",
   "name": "python3"
  },
  "language_info": {
   "codemirror_mode": {
    "name": "ipython",
    "version": 3
   },
   "file_extension": ".py",
   "mimetype": "text/x-python",
   "name": "python",
   "nbconvert_exporter": "python",
   "pygments_lexer": "ipython3",
   "version": "3.13.2"
  }
 },
 "nbformat": 4,
 "nbformat_minor": 5
}
