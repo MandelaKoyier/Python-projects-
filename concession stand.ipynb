{
 "cells": [
  {
   "cell_type": "code",
   "execution_count": 16,
   "id": "dd7766c1-45be-4d66-a04a-3d5f1cf50bd1",
   "metadata": {},
   "outputs": [
    {
     "name": "stdout",
     "output_type": "stream",
     "text": [
      "---------MENU---------\n",
      "pizza     : $3.00\n",
      "chapati   : $6.00\n",
      "fries     : $7.00\n",
      "chai      : $10.00\n",
      "soda      : $5.00\n",
      "lemonade  : $4.00\n",
      "-----------------------\n"
     ]
    },
    {
     "name": "stdin",
     "output_type": "stream",
     "text": [
      "select an item (q to quit):  soda\n",
      "select an item (q to quit):  pancake\n",
      "select an item (q to quit):  chai\n",
      "select an item (q to quit):  q\n"
     ]
    },
    {
     "name": "stdout",
     "output_type": "stream",
     "text": [
      "-------YOUR ORDER IS--------\n",
      "soda chai \n",
      "total is: $15.00\n"
     ]
    }
   ],
   "source": [
    "menu = {\"pizza\": 3.00,\n",
    "        \"chapati\": 6.00,\n",
    "        \"fries\": 7.00,\n",
    "        \"chai\": 10.00,\n",
    "        \"soda\": 5.00,\n",
    "        \"lemonade\": 4.00}\n",
    "cart = []\n",
    "total = 0\n",
    "\n",
    "\n",
    "\n",
    "print(\"---------MENU---------\")\n",
    "for key, value in menu.items():\n",
    "    print(f\"{key:10}: ${value:.2f}\")\n",
    "\n",
    "print(\"-----------------------\")\n",
    "\n",
    "while True:\n",
    "    food = input(\"select an item (q to quit): \").lower()\n",
    "    if food == \"q\":\n",
    "        break\n",
    "    elif menu.get(food) is not None:\n",
    "        cart.append(food)\n",
    "\n",
    "print(\"-------YOUR ORDER IS--------\")\n",
    "for food in cart:\n",
    "    total += menu.get(food)\n",
    "    print(food, end=\" \")\n",
    "\n",
    "print()\n",
    "print(f\"total is: ${total:.2f}\")\n",
    "\n"
   ]
  },
  {
   "cell_type": "code",
   "execution_count": null,
   "id": "33aefa0c-ccbb-464d-b70c-3a9c886434de",
   "metadata": {},
   "outputs": [],
   "source": []
  },
  {
   "cell_type": "code",
   "execution_count": null,
   "id": "c40b8d78-0e83-4807-b87d-ce0f2be77abc",
   "metadata": {},
   "outputs": [],
   "source": []
  },
  {
   "cell_type": "code",
   "execution_count": null,
   "id": "821a2bf5-926d-4cf0-873a-9c7f998a1528",
   "metadata": {},
   "outputs": [],
   "source": []
  }
 ],
 "metadata": {
  "kernelspec": {
   "display_name": "Python 3 (ipykernel)",
   "language": "python",
   "name": "python3"
  },
  "language_info": {
   "codemirror_mode": {
    "name": "ipython",
    "version": 3
   },
   "file_extension": ".py",
   "mimetype": "text/x-python",
   "name": "python",
   "nbconvert_exporter": "python",
   "pygments_lexer": "ipython3",
   "version": "3.13.2"
  }
 },
 "nbformat": 4,
 "nbformat_minor": 5
}
