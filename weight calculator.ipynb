{
 "cells": [
  {
   "cell_type": "code",
   "execution_count": 6,
   "id": "50d73e4a-474f-49e6-9651-9e7a064ca7cb",
   "metadata": {},
   "outputs": [
    {
     "name": "stdin",
     "output_type": "stream",
     "text": [
      "enter your weight:  76\n",
      "kilograms or pounds? (k or l):  gss\n"
     ]
    },
    {
     "name": "stdout",
     "output_type": "stream",
     "text": [
      "gss was not valid!\n"
     ]
    }
   ],
   "source": [
    "weight = float(input(\"enter your weight: \"))\n",
    "unit = input (\"kilograms or pounds? (k or l): \")\n",
    "\n",
    "if unit == \"k\":\n",
    "    weight = weight * 2.205\n",
    "    unit = \"lbs.\"\n",
    "    print(f\"your weight is: {weight} {unit}\")\n",
    "elif unit == \"l\":\n",
    "    weight = weight/2.205\n",
    "    unit = \"kgs.\"\n",
    "    print(f\"your weight is: {weight} {unit}\")\n",
    "else:\n",
    "    print(f\"{unit} was not valid!\")\n",
    "\n",
    "\n",
    "\n"
   ]
  },
  {
   "cell_type": "code",
   "execution_count": null,
   "id": "3cef17d4-89b8-4e7c-a392-fd9f57997a9a",
   "metadata": {},
   "outputs": [],
   "source": []
  }
 ],
 "metadata": {
  "kernelspec": {
   "display_name": "Python 3 (ipykernel)",
   "language": "python",
   "name": "python3"
  },
  "language_info": {
   "codemirror_mode": {
    "name": "ipython",
    "version": 3
   },
   "file_extension": ".py",
   "mimetype": "text/x-python",
   "name": "python",
   "nbconvert_exporter": "python",
   "pygments_lexer": "ipython3",
   "version": "3.13.2"
  }
 },
 "nbformat": 4,
 "nbformat_minor": 5
}
