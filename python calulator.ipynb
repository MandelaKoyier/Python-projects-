{
 "cells": [
  {
   "cell_type": "code",
   "execution_count": 5,
   "id": "f3ae1202-e7da-4f8e-828d-a1662baddf61",
   "metadata": {},
   "outputs": [
    {
     "name": "stdin",
     "output_type": "stream",
     "text": [
      "enter an operator (+ - * /):  dd\n",
      "enter the first number:  4\n",
      "enter the second number:  4\n"
     ]
    },
    {
     "name": "stdout",
     "output_type": "stream",
     "text": [
      "invalid entry\n"
     ]
    }
   ],
   "source": [
    "# python calculator\n",
    "\n",
    "operator = input(\"enter an operator (+ - * /): \")\n",
    "num1 = float(input(\"enter the first number: \"))\n",
    "num2 = float(input(\"enter the second number: \"))\n",
    "\n",
    "if operator == \"x\":\n",
    "    result = num1 + num2\n",
    "    print(round(result))\n",
    "elif operator == \"-\":\n",
    "    result = num1 - num2\n",
    "    print(round(result))\n",
    "elif operator == \"*\":\n",
    "    result = num1 * num2\n",
    "    print(round(result))\n",
    "elif operator == \"/\":\n",
    "    result = num1 / num2\n",
    "    print(round(result))\n",
    "else:\n",
    "    print(f\"invalid entry\")\n",
    "    \n",
    "\n"
   ]
  },
  {
   "cell_type": "code",
   "execution_count": null,
   "id": "8e390e58-8605-48c8-8022-e43e084bbed0",
   "metadata": {},
   "outputs": [],
   "source": []
  },
  {
   "cell_type": "code",
   "execution_count": null,
   "id": "be2fda0d-f382-480c-8530-46f97b7da9d3",
   "metadata": {},
   "outputs": [],
   "source": []
  }
 ],
 "metadata": {
  "kernelspec": {
   "display_name": "Python 3 (ipykernel)",
   "language": "python",
   "name": "python3"
  },
  "language_info": {
   "codemirror_mode": {
    "name": "ipython",
    "version": 3
   },
   "file_extension": ".py",
   "mimetype": "text/x-python",
   "name": "python",
   "nbconvert_exporter": "python",
   "pygments_lexer": "ipython3",
   "version": "3.13.2"
  }
 },
 "nbformat": 4,
 "nbformat_minor": 5
}
